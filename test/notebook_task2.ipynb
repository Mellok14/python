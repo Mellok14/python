{
 "cells": [
  {
   "cell_type": "markdown",
   "metadata": {},
   "source": [
    "Задание 2. Вам предоставлены данные о подаче заявок для участия в закупочных конкурсах.\n",
    "1.\tПровести анализ случаев подачи заявок разными поставщиками с одного адреса.\n",
    "2.\tНаглядно визуализировать результат анализа в виде отчета в Qlik Sense. Предусмотреть возможность фильтрации результатов по диапазону количества совместных подач (напр., 10-20, 20-50 и т.д.) и разницы во времени между подачей первой и второй заявки (напр., 0-10 минут, 10-30 и т.д.)"
   ]
  },
  {
   "cell_type": "code",
   "execution_count": 118,
   "metadata": {},
   "outputs": [],
   "source": [
    "import numpy as np\n",
    "import pandas as pd\n",
    "import matplotlib.pyplot as plt\n",
    "import warnings\n",
    "\n",
    "warnings.filterwarnings('ignore')\n",
    "\n",
    "pd.options.display.max_columns = 20\n",
    "pd.options.display.max_rows = 10\n",
    "\n",
    "%matplotlib inline\n",
    "%config InlineBackend.figure_format = 'svg'"
   ]
  },
  {
   "cell_type": "markdown",
   "metadata": {},
   "source": [
    "Наблюдаются лишние запятые в исходном файле, исправим это."
   ]
  },
  {
   "cell_type": "code",
   "execution_count": 7,
   "metadata": {},
   "outputs": [],
   "source": [
    "my_list =[]\n",
    "with open('C:\\\\Users\\\\Mell\\\\Desktop\\\\Task_2\\\\Task 2 - data.csv', 'r') as r, open('C:\\\\Users\\\\Mell\\\\Desktop\\\\Task_2\\\\Task 2_data_red.csv', 'w') as w:    \n",
    "    for num, line in enumerate(r):\n",
    "        if num > 0:\n",
    "            my_list = line.split('Company')\n",
    "            newline = my_list[0].replace(',','') + ',Company' + my_list[1]\n",
    "        else:\n",
    "            newline = line\n",
    "        my_list = []\n",
    "        w.write(newline)"
   ]
  },
  {
   "cell_type": "code",
   "execution_count": 8,
   "metadata": {},
   "outputs": [],
   "source": [
    "data = pd.read_csv('C:\\\\Users\\\\Mell\\\\Desktop\\\\Task_2\\\\Task 2_data_red.csv', sep = ',', engine='python')"
   ]
  },
  {
   "cell_type": "code",
   "execution_count": 9,
   "metadata": {},
   "outputs": [
    {
     "data": {
      "text/html": [
       "<div>\n",
       "<style scoped>\n",
       "    .dataframe tbody tr th:only-of-type {\n",
       "        vertical-align: middle;\n",
       "    }\n",
       "\n",
       "    .dataframe tbody tr th {\n",
       "        vertical-align: top;\n",
       "    }\n",
       "\n",
       "    .dataframe thead th {\n",
       "        text-align: right;\n",
       "    }\n",
       "</style>\n",
       "<table border=\"1\" class=\"dataframe\">\n",
       "  <thead>\n",
       "    <tr style=\"text-align: right;\">\n",
       "      <th></th>\n",
       "      <th>Tender_ID</th>\n",
       "      <th>Поставщик_1</th>\n",
       "      <th>Received_DateTime</th>\n",
       "      <th>IP_address</th>\n",
       "    </tr>\n",
       "  </thead>\n",
       "  <tbody>\n",
       "    <tr>\n",
       "      <td>0</td>\n",
       "      <td>Tender 1</td>\n",
       "      <td>Company 107</td>\n",
       "      <td>1-15-16 18:01</td>\n",
       "      <td>IP address 14598</td>\n",
       "    </tr>\n",
       "    <tr>\n",
       "      <td>1</td>\n",
       "      <td>Tender 1</td>\n",
       "      <td>Company 107</td>\n",
       "      <td>1-15-16 18:01</td>\n",
       "      <td>IP address 14598</td>\n",
       "    </tr>\n",
       "    <tr>\n",
       "      <td>2</td>\n",
       "      <td>Tender 1</td>\n",
       "      <td>Company 107</td>\n",
       "      <td>1-15-16 18:01</td>\n",
       "      <td>IP address 14598</td>\n",
       "    </tr>\n",
       "    <tr>\n",
       "      <td>3</td>\n",
       "      <td>Tender 1</td>\n",
       "      <td>Company 1185</td>\n",
       "      <td>1-15-16 17:26</td>\n",
       "      <td>IP address 3620</td>\n",
       "    </tr>\n",
       "    <tr>\n",
       "      <td>4</td>\n",
       "      <td>Tender 1</td>\n",
       "      <td>Company 182</td>\n",
       "      <td>1-15-16 17:25</td>\n",
       "      <td>IP address 2951</td>\n",
       "    </tr>\n",
       "  </tbody>\n",
       "</table>\n",
       "</div>"
      ],
      "text/plain": [
       "  Tender_ID   Поставщик_1 Received_DateTime        IP_address\n",
       "0  Tender 1   Company 107     1-15-16 18:01  IP address 14598\n",
       "1  Tender 1   Company 107     1-15-16 18:01  IP address 14598\n",
       "2  Tender 1   Company 107     1-15-16 18:01  IP address 14598\n",
       "3  Tender 1  Company 1185     1-15-16 17:26   IP address 3620\n",
       "4  Tender 1   Company 182     1-15-16 17:25   IP address 2951"
      ]
     },
     "execution_count": 9,
     "metadata": {},
     "output_type": "execute_result"
    }
   ],
   "source": [
    "data.head()"
   ]
  },
  {
   "cell_type": "markdown",
   "metadata": {},
   "source": [
    "Посчитаем количество поставщиков с одинаковым IP"
   ]
  },
  {
   "cell_type": "code",
   "execution_count": 16,
   "metadata": {},
   "outputs": [],
   "source": [
    "data['Количество_компаний'] = data.groupby('IP_address')['Поставщик_1'].transform(pd.Series.nunique)"
   ]
  },
  {
   "cell_type": "code",
   "execution_count": 17,
   "metadata": {},
   "outputs": [
    {
     "data": {
      "text/html": [
       "<div>\n",
       "<style scoped>\n",
       "    .dataframe tbody tr th:only-of-type {\n",
       "        vertical-align: middle;\n",
       "    }\n",
       "\n",
       "    .dataframe tbody tr th {\n",
       "        vertical-align: top;\n",
       "    }\n",
       "\n",
       "    .dataframe thead th {\n",
       "        text-align: right;\n",
       "    }\n",
       "</style>\n",
       "<table border=\"1\" class=\"dataframe\">\n",
       "  <thead>\n",
       "    <tr style=\"text-align: right;\">\n",
       "      <th></th>\n",
       "      <th>Tender_ID</th>\n",
       "      <th>Поставщик_1</th>\n",
       "      <th>Received_DateTime</th>\n",
       "      <th>IP_address</th>\n",
       "      <th>Количество_компаний</th>\n",
       "    </tr>\n",
       "  </thead>\n",
       "  <tbody>\n",
       "    <tr>\n",
       "      <td>0</td>\n",
       "      <td>Tender 1</td>\n",
       "      <td>Company 107</td>\n",
       "      <td>1-15-16 18:01</td>\n",
       "      <td>IP address 14598</td>\n",
       "      <td>1</td>\n",
       "    </tr>\n",
       "    <tr>\n",
       "      <td>1</td>\n",
       "      <td>Tender 1</td>\n",
       "      <td>Company 107</td>\n",
       "      <td>1-15-16 18:01</td>\n",
       "      <td>IP address 14598</td>\n",
       "      <td>1</td>\n",
       "    </tr>\n",
       "    <tr>\n",
       "      <td>2</td>\n",
       "      <td>Tender 1</td>\n",
       "      <td>Company 107</td>\n",
       "      <td>1-15-16 18:01</td>\n",
       "      <td>IP address 14598</td>\n",
       "      <td>1</td>\n",
       "    </tr>\n",
       "    <tr>\n",
       "      <td>3</td>\n",
       "      <td>Tender 1</td>\n",
       "      <td>Company 1185</td>\n",
       "      <td>1-15-16 17:26</td>\n",
       "      <td>IP address 3620</td>\n",
       "      <td>1</td>\n",
       "    </tr>\n",
       "    <tr>\n",
       "      <td>4</td>\n",
       "      <td>Tender 1</td>\n",
       "      <td>Company 182</td>\n",
       "      <td>1-15-16 17:25</td>\n",
       "      <td>IP address 2951</td>\n",
       "      <td>9</td>\n",
       "    </tr>\n",
       "    <tr>\n",
       "      <td>...</td>\n",
       "      <td>...</td>\n",
       "      <td>...</td>\n",
       "      <td>...</td>\n",
       "      <td>...</td>\n",
       "      <td>...</td>\n",
       "    </tr>\n",
       "    <tr>\n",
       "      <td>74560</td>\n",
       "      <td>Tender 9999</td>\n",
       "      <td>Company 317</td>\n",
       "      <td>1-27-17 17:58</td>\n",
       "      <td>IP address 17475</td>\n",
       "      <td>1</td>\n",
       "    </tr>\n",
       "    <tr>\n",
       "      <td>74561</td>\n",
       "      <td>Tender 7746</td>\n",
       "      <td>Company 100</td>\n",
       "      <td>3-16-17 14:05</td>\n",
       "      <td>IP address 5476</td>\n",
       "      <td>2</td>\n",
       "    </tr>\n",
       "    <tr>\n",
       "      <td>74562</td>\n",
       "      <td>Tender 7746</td>\n",
       "      <td>Company 202</td>\n",
       "      <td>3-16-17 17:28</td>\n",
       "      <td>IP address 10272</td>\n",
       "      <td>1</td>\n",
       "    </tr>\n",
       "    <tr>\n",
       "      <td>74563</td>\n",
       "      <td>Tender 7746</td>\n",
       "      <td>Company 427</td>\n",
       "      <td>3-16-17 17:20</td>\n",
       "      <td>IP address 769</td>\n",
       "      <td>1</td>\n",
       "    </tr>\n",
       "    <tr>\n",
       "      <td>74564</td>\n",
       "      <td>Tender 7746</td>\n",
       "      <td>Company 551</td>\n",
       "      <td>3-16-17 13:19</td>\n",
       "      <td>IP address 11721</td>\n",
       "      <td>1</td>\n",
       "    </tr>\n",
       "  </tbody>\n",
       "</table>\n",
       "<p>74565 rows × 5 columns</p>\n",
       "</div>"
      ],
      "text/plain": [
       "         Tender_ID   Поставщик_1 Received_DateTime        IP_address  \\\n",
       "0         Tender 1   Company 107     1-15-16 18:01  IP address 14598   \n",
       "1         Tender 1   Company 107     1-15-16 18:01  IP address 14598   \n",
       "2         Tender 1   Company 107     1-15-16 18:01  IP address 14598   \n",
       "3         Tender 1  Company 1185     1-15-16 17:26   IP address 3620   \n",
       "4         Tender 1   Company 182     1-15-16 17:25   IP address 2951   \n",
       "...            ...           ...               ...               ...   \n",
       "74560  Tender 9999   Company 317     1-27-17 17:58  IP address 17475   \n",
       "74561  Tender 7746   Company 100     3-16-17 14:05   IP address 5476   \n",
       "74562  Tender 7746   Company 202     3-16-17 17:28  IP address 10272   \n",
       "74563  Tender 7746   Company 427     3-16-17 17:20    IP address 769   \n",
       "74564  Tender 7746   Company 551     3-16-17 13:19  IP address 11721   \n",
       "\n",
       "       Количество_компаний  \n",
       "0                        1  \n",
       "1                        1  \n",
       "2                        1  \n",
       "3                        1  \n",
       "4                        9  \n",
       "...                    ...  \n",
       "74560                    1  \n",
       "74561                    2  \n",
       "74562                    1  \n",
       "74563                    1  \n",
       "74564                    1  \n",
       "\n",
       "[74565 rows x 5 columns]"
      ]
     },
     "execution_count": 17,
     "metadata": {},
     "output_type": "execute_result"
    }
   ],
   "source": [
    "data"
   ]
  },
  {
   "cell_type": "markdown",
   "metadata": {},
   "source": [
    "Теперь добавим в новый столбец список компаний, которые подавали заявки с этого адреса."
   ]
  },
  {
   "cell_type": "code",
   "execution_count": 66,
   "metadata": {},
   "outputs": [],
   "source": [
    "name_comp = data.copy()"
   ]
  },
  {
   "cell_type": "code",
   "execution_count": 67,
   "metadata": {},
   "outputs": [],
   "source": [
    "name_comp = name_comp.drop(columns =['Tender_ID', 'Received_DateTime', 'Количество_компаний'])"
   ]
  },
  {
   "cell_type": "code",
   "execution_count": 69,
   "metadata": {},
   "outputs": [],
   "source": [
    "name_comp = name_comp.groupby('IP_address')['Поставщик_1'].unique().to_frame(name=\"Компании\")"
   ]
  },
  {
   "cell_type": "code",
   "execution_count": 71,
   "metadata": {},
   "outputs": [
    {
     "data": {
      "text/html": [
       "<div>\n",
       "<style scoped>\n",
       "    .dataframe tbody tr th:only-of-type {\n",
       "        vertical-align: middle;\n",
       "    }\n",
       "\n",
       "    .dataframe tbody tr th {\n",
       "        vertical-align: top;\n",
       "    }\n",
       "\n",
       "    .dataframe thead th {\n",
       "        text-align: right;\n",
       "    }\n",
       "</style>\n",
       "<table border=\"1\" class=\"dataframe\">\n",
       "  <thead>\n",
       "    <tr style=\"text-align: right;\">\n",
       "      <th></th>\n",
       "      <th>Компании</th>\n",
       "    </tr>\n",
       "    <tr>\n",
       "      <th>IP_address</th>\n",
       "      <th></th>\n",
       "    </tr>\n",
       "  </thead>\n",
       "  <tbody>\n",
       "    <tr>\n",
       "      <td>IP address 1</td>\n",
       "      <td>[Company 1152]</td>\n",
       "    </tr>\n",
       "    <tr>\n",
       "      <td>IP address 10</td>\n",
       "      <td>[Company 1152]</td>\n",
       "    </tr>\n",
       "    <tr>\n",
       "      <td>IP address 100</td>\n",
       "      <td>[Company 915]</td>\n",
       "    </tr>\n",
       "  </tbody>\n",
       "</table>\n",
       "</div>"
      ],
      "text/plain": [
       "                      Компании\n",
       "IP_address                    \n",
       "IP address 1    [Company 1152]\n",
       "IP address 10   [Company 1152]\n",
       "IP address 100   [Company 915]"
      ]
     },
     "execution_count": 71,
     "metadata": {},
     "output_type": "execute_result"
    }
   ],
   "source": [
    "name_comp.head(3)"
   ]
  },
  {
   "cell_type": "code",
   "execution_count": 74,
   "metadata": {},
   "outputs": [],
   "source": [
    "data = data.merge(name_comp, on ='IP_address')"
   ]
  },
  {
   "cell_type": "code",
   "execution_count": 78,
   "metadata": {},
   "outputs": [
    {
     "data": {
      "text/html": [
       "<div>\n",
       "<style scoped>\n",
       "    .dataframe tbody tr th:only-of-type {\n",
       "        vertical-align: middle;\n",
       "    }\n",
       "\n",
       "    .dataframe tbody tr th {\n",
       "        vertical-align: top;\n",
       "    }\n",
       "\n",
       "    .dataframe thead th {\n",
       "        text-align: right;\n",
       "    }\n",
       "</style>\n",
       "<table border=\"1\" class=\"dataframe\">\n",
       "  <thead>\n",
       "    <tr style=\"text-align: right;\">\n",
       "      <th></th>\n",
       "      <th>Tender_ID</th>\n",
       "      <th>Поставщик_1</th>\n",
       "      <th>Received_DateTime</th>\n",
       "      <th>IP_address</th>\n",
       "      <th>Количество_компаний</th>\n",
       "      <th>Компании</th>\n",
       "    </tr>\n",
       "  </thead>\n",
       "  <tbody>\n",
       "    <tr>\n",
       "      <td>0</td>\n",
       "      <td>Tender 1</td>\n",
       "      <td>Company 107</td>\n",
       "      <td>1-15-16 18:01</td>\n",
       "      <td>IP address 14598</td>\n",
       "      <td>1</td>\n",
       "      <td>[Company 107]</td>\n",
       "    </tr>\n",
       "    <tr>\n",
       "      <td>1</td>\n",
       "      <td>Tender 1</td>\n",
       "      <td>Company 107</td>\n",
       "      <td>1-15-16 18:01</td>\n",
       "      <td>IP address 14598</td>\n",
       "      <td>1</td>\n",
       "      <td>[Company 107]</td>\n",
       "    </tr>\n",
       "    <tr>\n",
       "      <td>2</td>\n",
       "      <td>Tender 1</td>\n",
       "      <td>Company 107</td>\n",
       "      <td>1-15-16 18:01</td>\n",
       "      <td>IP address 14598</td>\n",
       "      <td>1</td>\n",
       "      <td>[Company 107]</td>\n",
       "    </tr>\n",
       "  </tbody>\n",
       "</table>\n",
       "</div>"
      ],
      "text/plain": [
       "  Tender_ID  Поставщик_1 Received_DateTime        IP_address  \\\n",
       "0  Tender 1  Company 107     1-15-16 18:01  IP address 14598   \n",
       "1  Tender 1  Company 107     1-15-16 18:01  IP address 14598   \n",
       "2  Tender 1  Company 107     1-15-16 18:01  IP address 14598   \n",
       "\n",
       "   Количество_компаний       Компании  \n",
       "0                    1  [Company 107]  \n",
       "1                    1  [Company 107]  \n",
       "2                    1  [Company 107]  "
      ]
     },
     "execution_count": 78,
     "metadata": {},
     "output_type": "execute_result"
    }
   ],
   "source": [
    "data.head(3)"
   ]
  },
  {
   "cell_type": "code",
   "execution_count": 181,
   "metadata": {},
   "outputs": [],
   "source": [
    "data['Received_DateTime'] = pd.to_datetime(data['Received_DateTime'])"
   ]
  },
  {
   "cell_type": "markdown",
   "metadata": {},
   "source": [
    "Оставим только те IP, с которых подавали заявки несколько компаний. "
   ]
  },
  {
   "cell_type": "code",
   "execution_count": 186,
   "metadata": {},
   "outputs": [],
   "source": [
    "data_ = data.loc[data['Количество_компаний'] > 1]"
   ]
  },
  {
   "cell_type": "markdown",
   "metadata": {},
   "source": [
    "Вычислим время между подачей первой и второй заявками."
   ]
  },
  {
   "cell_type": "code",
   "execution_count": 187,
   "metadata": {},
   "outputs": [],
   "source": [
    "data_['Время_между_заявками'] = np.nan"
   ]
  },
  {
   "cell_type": "code",
   "execution_count": 188,
   "metadata": {},
   "outputs": [],
   "source": [
    "for i in data_['IP_address'].unique():\n",
    "    data_['Время_между_заявками'].loc[data_['IP_address'] == i] = data_.loc[data_['IP_address'] == i].sort_values('Received_DateTime').iloc[1]['Received_DateTime'] - data_.loc[data_['IP_address'] == i].sort_values('Received_DateTime').iloc[0]['Received_DateTime']"
   ]
  },
  {
   "cell_type": "markdown",
   "metadata": {},
   "source": [
    "Приведем время к минутам, по условию задания."
   ]
  },
  {
   "cell_type": "code",
   "execution_count": 236,
   "metadata": {},
   "outputs": [],
   "source": [
    "data_['Время_между_заявками'] = pd.to_timedelta(data_['Время_между_заявками'])\n",
    "data_['Время между заявками (мин)'] = data_['Время_между_заявками'].dt.total_seconds().div(60).astype(int)"
   ]
  },
  {
   "cell_type": "code",
   "execution_count": 323,
   "metadata": {},
   "outputs": [],
   "source": [
    "data_to_save = data_.copy()"
   ]
  },
  {
   "cell_type": "code",
   "execution_count": 324,
   "metadata": {},
   "outputs": [],
   "source": [
    "data_to_save = data_to_save.drop(columns =['Tender_ID', 'Received_DateTime', 'Поставщик_1','Время_между_заявками'])"
   ]
  },
  {
   "cell_type": "markdown",
   "metadata": {},
   "source": [
    "Посчитаем количество совместных заявок. "
   ]
  },
  {
   "cell_type": "code",
   "execution_count": 325,
   "metadata": {},
   "outputs": [],
   "source": [
    "data_to_save['Количество_заявок'] = data_to_save.groupby('IP_address').IP_address.transform(np.size)"
   ]
  },
  {
   "cell_type": "code",
   "execution_count": 326,
   "metadata": {},
   "outputs": [],
   "source": [
    "data_to_save = data_to_save.drop_duplicates('IP_address', keep='first')"
   ]
  },
  {
   "cell_type": "code",
   "execution_count": 327,
   "metadata": {},
   "outputs": [],
   "source": [
    "data_to_save['Компании'] = data_to_save['Компании'].apply(', '.join)"
   ]
  },
  {
   "cell_type": "code",
   "execution_count": 328,
   "metadata": {},
   "outputs": [],
   "source": [
    "data_to_save.columns = ['IP_address','Number of companies', 'Companies', 'Time between requests', 'Number of requests']"
   ]
  },
  {
   "cell_type": "code",
   "execution_count": 329,
   "metadata": {},
   "outputs": [
    {
     "data": {
      "text/html": [
       "<div>\n",
       "<style scoped>\n",
       "    .dataframe tbody tr th:only-of-type {\n",
       "        vertical-align: middle;\n",
       "    }\n",
       "\n",
       "    .dataframe tbody tr th {\n",
       "        vertical-align: top;\n",
       "    }\n",
       "\n",
       "    .dataframe thead th {\n",
       "        text-align: right;\n",
       "    }\n",
       "</style>\n",
       "<table border=\"1\" class=\"dataframe\">\n",
       "  <thead>\n",
       "    <tr style=\"text-align: right;\">\n",
       "      <th></th>\n",
       "      <th>IP_address</th>\n",
       "      <th>Number of companies</th>\n",
       "      <th>Companies</th>\n",
       "      <th>Time between requests</th>\n",
       "      <th>Number of requests</th>\n",
       "    </tr>\n",
       "  </thead>\n",
       "  <tbody>\n",
       "    <tr>\n",
       "      <td>9</td>\n",
       "      <td>IP address 2951</td>\n",
       "      <td>9</td>\n",
       "      <td>Company 182, Company 122, Company 616, Company...</td>\n",
       "      <td>15860</td>\n",
       "      <td>68</td>\n",
       "    </tr>\n",
       "    <tr>\n",
       "      <td>95</td>\n",
       "      <td>IP address 10814</td>\n",
       "      <td>2</td>\n",
       "      <td>Company 77, Company 81</td>\n",
       "      <td>21</td>\n",
       "      <td>2</td>\n",
       "    </tr>\n",
       "    <tr>\n",
       "      <td>98</td>\n",
       "      <td>IP address 16751</td>\n",
       "      <td>2</td>\n",
       "      <td>Company 1764, Company 926</td>\n",
       "      <td>52</td>\n",
       "      <td>2</td>\n",
       "    </tr>\n",
       "    <tr>\n",
       "      <td>103</td>\n",
       "      <td>IP address 11971</td>\n",
       "      <td>3</td>\n",
       "      <td>Company 533, Company 531, Company 532</td>\n",
       "      <td>7</td>\n",
       "      <td>44</td>\n",
       "    </tr>\n",
       "    <tr>\n",
       "      <td>153</td>\n",
       "      <td>IP address 15331</td>\n",
       "      <td>2</td>\n",
       "      <td>Company 124, Company 184</td>\n",
       "      <td>2</td>\n",
       "      <td>12</td>\n",
       "    </tr>\n",
       "    <tr>\n",
       "      <td>...</td>\n",
       "      <td>...</td>\n",
       "      <td>...</td>\n",
       "      <td>...</td>\n",
       "      <td>...</td>\n",
       "      <td>...</td>\n",
       "    </tr>\n",
       "    <tr>\n",
       "      <td>74535</td>\n",
       "      <td>IP address 11011</td>\n",
       "      <td>2</td>\n",
       "      <td>Company 236, Company 237</td>\n",
       "      <td>5</td>\n",
       "      <td>2</td>\n",
       "    </tr>\n",
       "    <tr>\n",
       "      <td>74537</td>\n",
       "      <td>IP address 11647</td>\n",
       "      <td>2</td>\n",
       "      <td>Company 1337, Company 308</td>\n",
       "      <td>12</td>\n",
       "      <td>2</td>\n",
       "    </tr>\n",
       "    <tr>\n",
       "      <td>74540</td>\n",
       "      <td>IP address 8817</td>\n",
       "      <td>2</td>\n",
       "      <td>Company 92, Company 96</td>\n",
       "      <td>25</td>\n",
       "      <td>3</td>\n",
       "    </tr>\n",
       "    <tr>\n",
       "      <td>74556</td>\n",
       "      <td>IP address 16575</td>\n",
       "      <td>2</td>\n",
       "      <td>Company 1000, Company 1175</td>\n",
       "      <td>156</td>\n",
       "      <td>5</td>\n",
       "    </tr>\n",
       "    <tr>\n",
       "      <td>74561</td>\n",
       "      <td>IP address 5874</td>\n",
       "      <td>2</td>\n",
       "      <td>Company 1000, Company 1175</td>\n",
       "      <td>7</td>\n",
       "      <td>2</td>\n",
       "    </tr>\n",
       "  </tbody>\n",
       "</table>\n",
       "<p>4077 rows × 5 columns</p>\n",
       "</div>"
      ],
      "text/plain": [
       "             IP_address  Number of companies  \\\n",
       "9       IP address 2951                    9   \n",
       "95     IP address 10814                    2   \n",
       "98     IP address 16751                    2   \n",
       "103    IP address 11971                    3   \n",
       "153    IP address 15331                    2   \n",
       "...                 ...                  ...   \n",
       "74535  IP address 11011                    2   \n",
       "74537  IP address 11647                    2   \n",
       "74540   IP address 8817                    2   \n",
       "74556  IP address 16575                    2   \n",
       "74561   IP address 5874                    2   \n",
       "\n",
       "                                               Companies  \\\n",
       "9      Company 182, Company 122, Company 616, Company...   \n",
       "95                                Company 77, Company 81   \n",
       "98                             Company 1764, Company 926   \n",
       "103                Company 533, Company 531, Company 532   \n",
       "153                             Company 124, Company 184   \n",
       "...                                                  ...   \n",
       "74535                           Company 236, Company 237   \n",
       "74537                          Company 1337, Company 308   \n",
       "74540                             Company 92, Company 96   \n",
       "74556                         Company 1000, Company 1175   \n",
       "74561                         Company 1000, Company 1175   \n",
       "\n",
       "       Time between requests  Number of requests  \n",
       "9                      15860                  68  \n",
       "95                        21                   2  \n",
       "98                        52                   2  \n",
       "103                        7                  44  \n",
       "153                        2                  12  \n",
       "...                      ...                 ...  \n",
       "74535                      5                   2  \n",
       "74537                     12                   2  \n",
       "74540                     25                   3  \n",
       "74556                    156                   5  \n",
       "74561                      7                   2  \n",
       "\n",
       "[4077 rows x 5 columns]"
      ]
     },
     "execution_count": 329,
     "metadata": {},
     "output_type": "execute_result"
    }
   ],
   "source": [
    "data_to_save"
   ]
  },
  {
   "cell_type": "markdown",
   "metadata": {},
   "source": [
    "**В результате работы получена таблица содержащая:  \n",
    "    1.IP,  \n",
    "    2.Количество компаний, которые подали заявку с этого адреса (>1),  \n",
    "    3.Список компаний, которые подали заявку с этого адреса (>1),   \n",
    "    4.Время между первой и второй заявкой,  \n",
    "    5.Совместное количество подач заявок.**  "
   ]
  },
  {
   "cell_type": "code",
   "execution_count": 331,
   "metadata": {},
   "outputs": [],
   "source": [
    "data_to_save.to_csv('C:\\\\Users\\\\Mell\\\\Desktop\\\\Task_2\\\\data_to_save.csv', sep=';', index=False)"
   ]
  }
 ],
 "metadata": {
  "kernelspec": {
   "display_name": "Python 3",
   "language": "python",
   "name": "python3"
  },
  "language_info": {
   "codemirror_mode": {
    "name": "ipython",
    "version": 3
   },
   "file_extension": ".py",
   "mimetype": "text/x-python",
   "name": "python",
   "nbconvert_exporter": "python",
   "pygments_lexer": "ipython3",
   "version": "3.7.4"
  }
 },
 "nbformat": 4,
 "nbformat_minor": 2
}
